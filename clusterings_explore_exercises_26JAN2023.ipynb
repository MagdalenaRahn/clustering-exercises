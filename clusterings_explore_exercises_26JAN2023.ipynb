{
 "cells": [
  {
   "cell_type": "markdown",
   "id": "27ed4086",
   "metadata": {},
   "source": [
    "## Exploratory Exercises With Zillow"
   ]
  },
  {
   "cell_type": "code",
   "execution_count": 1,
   "id": "66b00087",
   "metadata": {},
   "outputs": [],
   "source": [
    "# imports\n",
    "\n",
    "\n",
    "import pandas as pd\n",
    "import numpy as np\n",
    "import matplotlib.pyplot as plt\n",
    "import seaborn as sns\n",
    "\n",
    "from env import sql_connexion\n",
    "\n",
    "from sklearn.model_selection import train_test_split\n",
    "from prepare import tts\n"
   ]
  },
  {
   "cell_type": "code",
   "execution_count": 2,
   "id": "c7ff30e2",
   "metadata": {},
   "outputs": [
    {
     "name": "stderr",
     "output_type": "stream",
     "text": [
      "/var/folders/v1/7y2hc6q17wl2rjlpg8h9g78h0000gn/T/ipykernel_2169/3270428742.py:1: DtypeWarning: Columns (64) have mixed types. Specify dtype option on import or set low_memory=False.\n",
      "  zil = pd.read_csv('zillow.csv')\n"
     ]
    },
    {
     "data": {
      "text/html": [
       "<div>\n",
       "<style scoped>\n",
       "    .dataframe tbody tr th:only-of-type {\n",
       "        vertical-align: middle;\n",
       "    }\n",
       "\n",
       "    .dataframe tbody tr th {\n",
       "        vertical-align: top;\n",
       "    }\n",
       "\n",
       "    .dataframe thead th {\n",
       "        text-align: right;\n",
       "    }\n",
       "</style>\n",
       "<table border=\"1\" class=\"dataframe\">\n",
       "  <thead>\n",
       "    <tr style=\"text-align: right;\">\n",
       "      <th></th>\n",
       "      <th>parcelid</th>\n",
       "      <th>typeconstructiontypeid</th>\n",
       "      <th>storytypeid</th>\n",
       "      <th>propertylandusetypeid</th>\n",
       "      <th>heatingorsystemtypeid</th>\n",
       "      <th>buildingclasstypeid</th>\n",
       "      <th>architecturalstyletypeid</th>\n",
       "      <th>airconditioningtypeid</th>\n",
       "      <th>id</th>\n",
       "      <th>basementsqft</th>\n",
       "      <th>...</th>\n",
       "      <th>id.1</th>\n",
       "      <th>logerror</th>\n",
       "      <th>transactiondate</th>\n",
       "      <th>airconditioningdesc</th>\n",
       "      <th>architecturalstyledesc</th>\n",
       "      <th>buildingclassdesc</th>\n",
       "      <th>heatingorsystemdesc</th>\n",
       "      <th>propertylandusedesc</th>\n",
       "      <th>storydesc</th>\n",
       "      <th>typeconstructiondesc</th>\n",
       "    </tr>\n",
       "  </thead>\n",
       "  <tbody>\n",
       "    <tr>\n",
       "      <th>0</th>\n",
       "      <td>14297519</td>\n",
       "      <td>NaN</td>\n",
       "      <td>NaN</td>\n",
       "      <td>261.0</td>\n",
       "      <td>NaN</td>\n",
       "      <td>NaN</td>\n",
       "      <td>NaN</td>\n",
       "      <td>NaN</td>\n",
       "      <td>1727539</td>\n",
       "      <td>NaN</td>\n",
       "      <td>...</td>\n",
       "      <td>0</td>\n",
       "      <td>0.025595</td>\n",
       "      <td>2017-01-01</td>\n",
       "      <td>NaN</td>\n",
       "      <td>NaN</td>\n",
       "      <td>NaN</td>\n",
       "      <td>NaN</td>\n",
       "      <td>Single Family Residential</td>\n",
       "      <td>NaN</td>\n",
       "      <td>NaN</td>\n",
       "    </tr>\n",
       "    <tr>\n",
       "      <th>1</th>\n",
       "      <td>17052889</td>\n",
       "      <td>NaN</td>\n",
       "      <td>NaN</td>\n",
       "      <td>261.0</td>\n",
       "      <td>NaN</td>\n",
       "      <td>NaN</td>\n",
       "      <td>NaN</td>\n",
       "      <td>NaN</td>\n",
       "      <td>1387261</td>\n",
       "      <td>NaN</td>\n",
       "      <td>...</td>\n",
       "      <td>1</td>\n",
       "      <td>0.055619</td>\n",
       "      <td>2017-01-01</td>\n",
       "      <td>NaN</td>\n",
       "      <td>NaN</td>\n",
       "      <td>NaN</td>\n",
       "      <td>NaN</td>\n",
       "      <td>Single Family Residential</td>\n",
       "      <td>NaN</td>\n",
       "      <td>NaN</td>\n",
       "    </tr>\n",
       "    <tr>\n",
       "      <th>2</th>\n",
       "      <td>14186244</td>\n",
       "      <td>NaN</td>\n",
       "      <td>NaN</td>\n",
       "      <td>261.0</td>\n",
       "      <td>NaN</td>\n",
       "      <td>NaN</td>\n",
       "      <td>NaN</td>\n",
       "      <td>NaN</td>\n",
       "      <td>11677</td>\n",
       "      <td>NaN</td>\n",
       "      <td>...</td>\n",
       "      <td>2</td>\n",
       "      <td>0.005383</td>\n",
       "      <td>2017-01-01</td>\n",
       "      <td>NaN</td>\n",
       "      <td>NaN</td>\n",
       "      <td>NaN</td>\n",
       "      <td>NaN</td>\n",
       "      <td>Single Family Residential</td>\n",
       "      <td>NaN</td>\n",
       "      <td>NaN</td>\n",
       "    </tr>\n",
       "    <tr>\n",
       "      <th>3</th>\n",
       "      <td>12177905</td>\n",
       "      <td>NaN</td>\n",
       "      <td>NaN</td>\n",
       "      <td>261.0</td>\n",
       "      <td>2.0</td>\n",
       "      <td>NaN</td>\n",
       "      <td>NaN</td>\n",
       "      <td>NaN</td>\n",
       "      <td>2288172</td>\n",
       "      <td>NaN</td>\n",
       "      <td>...</td>\n",
       "      <td>3</td>\n",
       "      <td>-0.103410</td>\n",
       "      <td>2017-01-01</td>\n",
       "      <td>NaN</td>\n",
       "      <td>NaN</td>\n",
       "      <td>NaN</td>\n",
       "      <td>Central</td>\n",
       "      <td>Single Family Residential</td>\n",
       "      <td>NaN</td>\n",
       "      <td>NaN</td>\n",
       "    </tr>\n",
       "    <tr>\n",
       "      <th>4</th>\n",
       "      <td>10887214</td>\n",
       "      <td>NaN</td>\n",
       "      <td>NaN</td>\n",
       "      <td>266.0</td>\n",
       "      <td>2.0</td>\n",
       "      <td>NaN</td>\n",
       "      <td>NaN</td>\n",
       "      <td>1.0</td>\n",
       "      <td>1970746</td>\n",
       "      <td>NaN</td>\n",
       "      <td>...</td>\n",
       "      <td>4</td>\n",
       "      <td>0.006940</td>\n",
       "      <td>2017-01-01</td>\n",
       "      <td>Central</td>\n",
       "      <td>NaN</td>\n",
       "      <td>NaN</td>\n",
       "      <td>Central</td>\n",
       "      <td>Condominium</td>\n",
       "      <td>NaN</td>\n",
       "      <td>NaN</td>\n",
       "    </tr>\n",
       "  </tbody>\n",
       "</table>\n",
       "<p>5 rows × 69 columns</p>\n",
       "</div>"
      ],
      "text/plain": [
       "   parcelid  typeconstructiontypeid  storytypeid  propertylandusetypeid  \\\n",
       "0  14297519                     NaN          NaN                  261.0   \n",
       "1  17052889                     NaN          NaN                  261.0   \n",
       "2  14186244                     NaN          NaN                  261.0   \n",
       "3  12177905                     NaN          NaN                  261.0   \n",
       "4  10887214                     NaN          NaN                  266.0   \n",
       "\n",
       "   heatingorsystemtypeid  buildingclasstypeid  architecturalstyletypeid  \\\n",
       "0                    NaN                  NaN                       NaN   \n",
       "1                    NaN                  NaN                       NaN   \n",
       "2                    NaN                  NaN                       NaN   \n",
       "3                    2.0                  NaN                       NaN   \n",
       "4                    2.0                  NaN                       NaN   \n",
       "\n",
       "   airconditioningtypeid       id  basementsqft  ...  id.1  logerror  \\\n",
       "0                    NaN  1727539           NaN  ...     0  0.025595   \n",
       "1                    NaN  1387261           NaN  ...     1  0.055619   \n",
       "2                    NaN    11677           NaN  ...     2  0.005383   \n",
       "3                    NaN  2288172           NaN  ...     3 -0.103410   \n",
       "4                    1.0  1970746           NaN  ...     4  0.006940   \n",
       "\n",
       "   transactiondate  airconditioningdesc  architecturalstyledesc  \\\n",
       "0       2017-01-01                  NaN                     NaN   \n",
       "1       2017-01-01                  NaN                     NaN   \n",
       "2       2017-01-01                  NaN                     NaN   \n",
       "3       2017-01-01                  NaN                     NaN   \n",
       "4       2017-01-01              Central                     NaN   \n",
       "\n",
       "   buildingclassdesc  heatingorsystemdesc        propertylandusedesc  \\\n",
       "0                NaN                  NaN  Single Family Residential   \n",
       "1                NaN                  NaN  Single Family Residential   \n",
       "2                NaN                  NaN  Single Family Residential   \n",
       "3                NaN              Central  Single Family Residential   \n",
       "4                NaN              Central                Condominium   \n",
       "\n",
       "   storydesc  typeconstructiondesc  \n",
       "0        NaN                   NaN  \n",
       "1        NaN                   NaN  \n",
       "2        NaN                   NaN  \n",
       "3        NaN                   NaN  \n",
       "4        NaN                   NaN  \n",
       "\n",
       "[5 rows x 69 columns]"
      ]
     },
     "execution_count": 2,
     "metadata": {},
     "output_type": "execute_result"
    }
   ],
   "source": [
    "zil = pd.read_csv('zillow.csv')\n",
    "zil.head()"
   ]
  },
  {
   "cell_type": "code",
   "execution_count": 3,
   "id": "136ac510",
   "metadata": {},
   "outputs": [
    {
     "data": {
      "text/plain": [
       "parcelid                          int64\n",
       "typeconstructiontypeid          float64\n",
       "storytypeid                     float64\n",
       "propertylandusetypeid           float64\n",
       "heatingorsystemtypeid           float64\n",
       "buildingclasstypeid             float64\n",
       "architecturalstyletypeid        float64\n",
       "airconditioningtypeid           float64\n",
       "id                                int64\n",
       "basementsqft                    float64\n",
       "bathroomcnt                     float64\n",
       "bedroomcnt                      float64\n",
       "buildingqualitytypeid           float64\n",
       "calculatedbathnbr               float64\n",
       "decktypeid                      float64\n",
       "finishedfloor1squarefeet        float64\n",
       "calculatedfinishedsquarefeet    float64\n",
       "finishedsquarefeet12            float64\n",
       "finishedsquarefeet13            float64\n",
       "finishedsquarefeet15            float64\n",
       "finishedsquarefeet50            float64\n",
       "finishedsquarefeet6             float64\n",
       "fips                            float64\n",
       "fireplacecnt                    float64\n",
       "fullbathcnt                     float64\n",
       "garagecarcnt                    float64\n",
       "garagetotalsqft                 float64\n",
       "hashottuborspa                  float64\n",
       "latitude                        float64\n",
       "longitude                       float64\n",
       "lotsizesquarefeet               float64\n",
       "poolcnt                         float64\n",
       "poolsizesum                     float64\n",
       "pooltypeid10                    float64\n",
       "pooltypeid2                     float64\n",
       "pooltypeid7                     float64\n",
       "propertycountylandusecode        object\n",
       "propertyzoningdesc               object\n",
       "rawcensustractandblock          float64\n",
       "regionidcity                    float64\n",
       "regionidcounty                  float64\n",
       "regionidneighborhood            float64\n",
       "regionidzip                     float64\n",
       "roomcnt                         float64\n",
       "threequarterbathnbr             float64\n",
       "unitcnt                         float64\n",
       "yardbuildingsqft17              float64\n",
       "yardbuildingsqft26              float64\n",
       "yearbuilt                       float64\n",
       "numberofstories                 float64\n",
       "fireplaceflag                   float64\n",
       "structuretaxvaluedollarcnt      float64\n",
       "taxvaluedollarcnt               float64\n",
       "assessmentyear                  float64\n",
       "landtaxvaluedollarcnt           float64\n",
       "taxamount                       float64\n",
       "taxdelinquencyflag               object\n",
       "taxdelinquencyyear              float64\n",
       "censustractandblock             float64\n",
       "id.1                              int64\n",
       "logerror                        float64\n",
       "transactiondate                  object\n",
       "airconditioningdesc              object\n",
       "architecturalstyledesc           object\n",
       "buildingclassdesc                object\n",
       "heatingorsystemdesc              object\n",
       "propertylandusedesc              object\n",
       "storydesc                        object\n",
       "typeconstructiondesc             object\n",
       "dtype: object"
      ]
     },
     "execution_count": 3,
     "metadata": {},
     "output_type": "execute_result"
    }
   ],
   "source": [
    "zil.dtypes"
   ]
  },
  {
   "cell_type": "code",
   "execution_count": 4,
   "id": "be782782",
   "metadata": {},
   "outputs": [
    {
     "data": {
      "text/plain": [
       "parcelid                            0\n",
       "typeconstructiontypeid          77356\n",
       "storytypeid                     77529\n",
       "propertylandusetypeid               0\n",
       "heatingorsystemtypeid           28008\n",
       "buildingclasstypeid             77564\n",
       "architecturalstyletypeid        77372\n",
       "airconditioningtypeid           52572\n",
       "id                                  0\n",
       "basementsqft                    77529\n",
       "bathroomcnt                         0\n",
       "bedroomcnt                          0\n",
       "buildingqualitytypeid           27770\n",
       "calculatedbathnbr                 616\n",
       "decktypeid                      76965\n",
       "finishedfloor1squarefeet        71542\n",
       "calculatedfinishedsquarefeet      201\n",
       "finishedsquarefeet12             3656\n",
       "finishedsquarefeet13            77537\n",
       "finishedsquarefeet15            74552\n",
       "finishedsquarefeet50            71542\n",
       "finishedsquarefeet6             77193\n",
       "fips                                0\n",
       "fireplacecnt                    69290\n",
       "fullbathcnt                       616\n",
       "garagecarcnt                    52059\n",
       "garagetotalsqft                 52059\n",
       "hashottuborspa                  76040\n",
       "latitude                            0\n",
       "longitude                           0\n",
       "lotsizesquarefeet                8258\n",
       "poolcnt                         61405\n",
       "poolsizesum                     76710\n",
       "pooltypeid10                    77114\n",
       "pooltypeid2                     76505\n",
       "pooltypeid7                     62500\n",
       "propertycountylandusecode           0\n",
       "propertyzoningdesc              27103\n",
       "rawcensustractandblock              0\n",
       "regionidcity                     1472\n",
       "regionidcounty                      0\n",
       "regionidneighborhood            46605\n",
       "regionidzip                        50\n",
       "roomcnt                             0\n",
       "threequarterbathnbr             67473\n",
       "unitcnt                         26876\n",
       "yardbuildingsqft17              75186\n",
       "yardbuildingsqft26              77509\n",
       "yearbuilt                         270\n",
       "numberofstories                 59980\n",
       "fireplaceflag                   77407\n",
       "structuretaxvaluedollarcnt        115\n",
       "taxvaluedollarcnt                   1\n",
       "assessmentyear                      0\n",
       "landtaxvaluedollarcnt               2\n",
       "taxamount                           5\n",
       "taxdelinquencyflag              74679\n",
       "taxdelinquencyyear              74679\n",
       "censustractandblock               247\n",
       "id.1                                0\n",
       "logerror                            0\n",
       "transactiondate                     0\n",
       "airconditioningdesc             52572\n",
       "architecturalstyledesc          77372\n",
       "buildingclassdesc               77564\n",
       "heatingorsystemdesc             28008\n",
       "propertylandusedesc                 0\n",
       "storydesc                       77529\n",
       "typeconstructiondesc            77356\n",
       "dtype: int64"
      ]
     },
     "execution_count": 4,
     "metadata": {},
     "output_type": "execute_result"
    }
   ],
   "source": [
    "# cleaning up the df\n",
    "\n",
    "zil.isna().sum()"
   ]
  },
  {
   "cell_type": "code",
   "execution_count": 5,
   "id": "f20b3631",
   "metadata": {},
   "outputs": [],
   "source": [
    "zil.drop(columns = ['id.1', 'parcelid'], inplace = True)"
   ]
  },
  {
   "cell_type": "code",
   "execution_count": 6,
   "id": "e221a488",
   "metadata": {},
   "outputs": [
    {
     "data": {
      "text/plain": [
       "(77579, 67)"
      ]
     },
     "execution_count": 6,
     "metadata": {},
     "output_type": "execute_result"
    }
   ],
   "source": [
    "zil.shape\n",
    "\n",
    "# 77579 x 67"
   ]
  },
  {
   "cell_type": "code",
   "execution_count": 7,
   "id": "b0648fff",
   "metadata": {},
   "outputs": [
    {
     "data": {
      "text/plain": [
       "typeconstructiontypeid          77356\n",
       "storytypeid                     77529\n",
       "propertylandusetypeid               0\n",
       "heatingorsystemtypeid           28008\n",
       "buildingclasstypeid             77564\n",
       "architecturalstyletypeid        77372\n",
       "airconditioningtypeid           52572\n",
       "id                                  0\n",
       "basementsqft                    77529\n",
       "bathroomcnt                         0\n",
       "bedroomcnt                          0\n",
       "buildingqualitytypeid           27770\n",
       "calculatedbathnbr                 616\n",
       "decktypeid                      76965\n",
       "finishedfloor1squarefeet        71542\n",
       "calculatedfinishedsquarefeet      201\n",
       "finishedsquarefeet12             3656\n",
       "finishedsquarefeet13            77537\n",
       "finishedsquarefeet15            74552\n",
       "finishedsquarefeet50            71542\n",
       "finishedsquarefeet6             77193\n",
       "fips                                0\n",
       "fireplacecnt                    69290\n",
       "fullbathcnt                       616\n",
       "garagecarcnt                    52059\n",
       "garagetotalsqft                 52059\n",
       "hashottuborspa                  76040\n",
       "latitude                            0\n",
       "longitude                           0\n",
       "lotsizesquarefeet                8258\n",
       "poolcnt                         61405\n",
       "poolsizesum                     76710\n",
       "pooltypeid10                    77114\n",
       "pooltypeid2                     76505\n",
       "pooltypeid7                     62500\n",
       "propertycountylandusecode           0\n",
       "propertyzoningdesc              27103\n",
       "rawcensustractandblock              0\n",
       "regionidcity                     1472\n",
       "regionidcounty                      0\n",
       "regionidneighborhood            46605\n",
       "regionidzip                        50\n",
       "roomcnt                             0\n",
       "threequarterbathnbr             67473\n",
       "unitcnt                         26876\n",
       "yardbuildingsqft17              75186\n",
       "yardbuildingsqft26              77509\n",
       "yearbuilt                         270\n",
       "numberofstories                 59980\n",
       "fireplaceflag                   77407\n",
       "structuretaxvaluedollarcnt        115\n",
       "taxvaluedollarcnt                   1\n",
       "assessmentyear                      0\n",
       "landtaxvaluedollarcnt               2\n",
       "taxamount                           5\n",
       "taxdelinquencyflag              74679\n",
       "taxdelinquencyyear              74679\n",
       "censustractandblock               247\n",
       "logerror                            0\n",
       "transactiondate                     0\n",
       "airconditioningdesc             52572\n",
       "architecturalstyledesc          77372\n",
       "buildingclassdesc               77564\n",
       "heatingorsystemdesc             28008\n",
       "propertylandusedesc                 0\n",
       "storydesc                       77529\n",
       "typeconstructiondesc            77356\n",
       "dtype: int64"
      ]
     },
     "execution_count": 7,
     "metadata": {},
     "output_type": "execute_result"
    }
   ],
   "source": [
    "# keeping rows with infor for at least 30 of the 67 columns\n",
    "\n",
    "zil.isna().sum()"
   ]
  },
  {
   "cell_type": "code",
   "execution_count": 8,
   "id": "2d67f0e2",
   "metadata": {},
   "outputs": [],
   "source": [
    "# null_counter\n",
    "\n",
    "def missing_rows(df):\n",
    "    \n",
    "    # converting 0, blanks, nulls to nan\n",
    "    df = df.replace([' ', 'NULL'], np.nan)\n",
    "\n",
    "    # creating df of rows with null values\n",
    "    missing_rows = df.isna()\n",
    "    \n",
    "    # finding sum of each row\n",
    "    missing_num_rows = missing_rows.sum()\n",
    "    \n",
    "    # finding the percentage of missing rows\n",
    "    pc_missing_rows = (df.isna().mean().round(4))\n",
    "    \n",
    "    # creating dataframe with the missing row-numbers\n",
    "    df = pd.DataFrame(missing_num_rows)\n",
    "    \n",
    "    # adding the pc to the missing df\n",
    "    df['pc_missing'] = pc_missing_rows\n",
    "\n",
    "    # renaming the 0 column\n",
    "    df = df.rename(columns = {0 : 'num_missing_rows'})\n",
    "    \n",
    "    # sorting to have lowest pc missing at the top\n",
    "    df.sort_values('pc_missing', ascending = False, inplace = True)\n",
    "    \n",
    "    return df\n",
    "    "
   ]
  },
  {
   "cell_type": "code",
   "execution_count": 9,
   "id": "0db1b007",
   "metadata": {},
   "outputs": [
    {
     "data": {
      "text/html": [
       "<div>\n",
       "<style scoped>\n",
       "    .dataframe tbody tr th:only-of-type {\n",
       "        vertical-align: middle;\n",
       "    }\n",
       "\n",
       "    .dataframe tbody tr th {\n",
       "        vertical-align: top;\n",
       "    }\n",
       "\n",
       "    .dataframe thead th {\n",
       "        text-align: right;\n",
       "    }\n",
       "</style>\n",
       "<table border=\"1\" class=\"dataframe\">\n",
       "  <thead>\n",
       "    <tr style=\"text-align: right;\">\n",
       "      <th></th>\n",
       "      <th>num_missing_rows</th>\n",
       "      <th>pc_missing</th>\n",
       "    </tr>\n",
       "  </thead>\n",
       "  <tbody>\n",
       "    <tr>\n",
       "      <th>buildingclassdesc</th>\n",
       "      <td>77564</td>\n",
       "      <td>0.9998</td>\n",
       "    </tr>\n",
       "    <tr>\n",
       "      <th>buildingclasstypeid</th>\n",
       "      <td>77564</td>\n",
       "      <td>0.9998</td>\n",
       "    </tr>\n",
       "    <tr>\n",
       "      <th>finishedsquarefeet13</th>\n",
       "      <td>77537</td>\n",
       "      <td>0.9995</td>\n",
       "    </tr>\n",
       "  </tbody>\n",
       "</table>\n",
       "</div>"
      ],
      "text/plain": [
       "                      num_missing_rows  pc_missing\n",
       "buildingclassdesc                77564      0.9998\n",
       "buildingclasstypeid              77564      0.9998\n",
       "finishedsquarefeet13             77537      0.9995"
      ]
     },
     "execution_count": 9,
     "metadata": {},
     "output_type": "execute_result"
    }
   ],
   "source": [
    "missing = missing_rows(zil)\n",
    "missing.head(3)"
   ]
  },
  {
   "cell_type": "code",
   "execution_count": 10,
   "id": "4f32f959",
   "metadata": {},
   "outputs": [
    {
     "data": {
      "text/plain": [
       "typeconstructiontypeid          77356\n",
       "storytypeid                     77529\n",
       "propertylandusetypeid               0\n",
       "heatingorsystemtypeid           28008\n",
       "buildingclasstypeid             77564\n",
       "architecturalstyletypeid        77372\n",
       "airconditioningtypeid           52572\n",
       "id                                  0\n",
       "basementsqft                    77529\n",
       "bathroomcnt                         0\n",
       "bedroomcnt                          0\n",
       "buildingqualitytypeid           27770\n",
       "calculatedbathnbr                 616\n",
       "decktypeid                      76965\n",
       "finishedfloor1squarefeet        71542\n",
       "calculatedfinishedsquarefeet      201\n",
       "finishedsquarefeet12             3656\n",
       "finishedsquarefeet13            77537\n",
       "finishedsquarefeet15            74552\n",
       "finishedsquarefeet50            71542\n",
       "finishedsquarefeet6             77193\n",
       "fips                                0\n",
       "fireplacecnt                    69290\n",
       "fullbathcnt                       616\n",
       "garagecarcnt                    52059\n",
       "garagetotalsqft                 52059\n",
       "hashottuborspa                  76040\n",
       "latitude                            0\n",
       "longitude                           0\n",
       "lotsizesquarefeet                8258\n",
       "poolcnt                         61405\n",
       "poolsizesum                     76710\n",
       "pooltypeid10                    77114\n",
       "pooltypeid2                     76505\n",
       "pooltypeid7                     62500\n",
       "propertycountylandusecode           0\n",
       "propertyzoningdesc              27103\n",
       "rawcensustractandblock              0\n",
       "regionidcity                     1472\n",
       "regionidcounty                      0\n",
       "regionidneighborhood            46605\n",
       "regionidzip                        50\n",
       "roomcnt                             0\n",
       "threequarterbathnbr             67473\n",
       "unitcnt                         26876\n",
       "yardbuildingsqft17              75186\n",
       "yardbuildingsqft26              77509\n",
       "yearbuilt                         270\n",
       "numberofstories                 59980\n",
       "fireplaceflag                   77407\n",
       "structuretaxvaluedollarcnt        115\n",
       "taxvaluedollarcnt                   1\n",
       "assessmentyear                      0\n",
       "landtaxvaluedollarcnt               2\n",
       "taxamount                           5\n",
       "taxdelinquencyflag              74679\n",
       "taxdelinquencyyear              74679\n",
       "censustractandblock               247\n",
       "logerror                            0\n",
       "transactiondate                     0\n",
       "airconditioningdesc             52572\n",
       "architecturalstyledesc          77372\n",
       "buildingclassdesc               77564\n",
       "heatingorsystemdesc             28008\n",
       "propertylandusedesc                 0\n",
       "storydesc                       77529\n",
       "typeconstructiondesc            77356\n",
       "dtype: int64"
      ]
     },
     "execution_count": 10,
     "metadata": {},
     "output_type": "execute_result"
    }
   ],
   "source": [
    "zil.isna().sum()\n"
   ]
  },
  {
   "cell_type": "code",
   "execution_count": 12,
   "id": "bdee8d90",
   "metadata": {},
   "outputs": [
    {
     "data": {
      "text/plain": [
       "typeconstructiontypeid          31923\n",
       "storytypeid                     32096\n",
       "propertylandusetypeid               0\n",
       "heatingorsystemtypeid            4801\n",
       "buildingclasstypeid             32142\n",
       "architecturalstyletypeid        31938\n",
       "airconditioningtypeid            9275\n",
       "id                                  0\n",
       "basementsqft                    32096\n",
       "bathroomcnt                         0\n",
       "bedroomcnt                          0\n",
       "buildingqualitytypeid            6021\n",
       "calculatedbathnbr                   7\n",
       "decktypeid                      31638\n",
       "finishedfloor1squarefeet        28790\n",
       "calculatedfinishedsquarefeet        0\n",
       "finishedsquarefeet12              222\n",
       "finishedsquarefeet13            32145\n",
       "finishedsquarefeet15            31927\n",
       "finishedsquarefeet50            28790\n",
       "finishedsquarefeet6             32141\n",
       "fips                                0\n",
       "fireplacecnt                    27762\n",
       "fullbathcnt                         7\n",
       "garagecarcnt                    26498\n",
       "garagetotalsqft                 26498\n",
       "hashottuborspa                  31682\n",
       "latitude                            0\n",
       "longitude                           0\n",
       "lotsizesquarefeet                1148\n",
       "poolcnt                         18194\n",
       "poolsizesum                     31277\n",
       "pooltypeid10                    32033\n",
       "pooltypeid2                     31794\n",
       "pooltypeid7                     18562\n",
       "propertycountylandusecode           0\n",
       "propertyzoningdesc               5710\n",
       "rawcensustractandblock              0\n",
       "regionidcity                      258\n",
       "regionidcounty                      0\n",
       "regionidneighborhood            16739\n",
       "regionidzip                         0\n",
       "roomcnt                             0\n",
       "threequarterbathnbr             29268\n",
       "unitcnt                          5767\n",
       "yardbuildingsqft17              30249\n",
       "yardbuildingsqft26              32087\n",
       "yearbuilt                          11\n",
       "numberofstories                 26658\n",
       "fireplaceflag                   31983\n",
       "structuretaxvaluedollarcnt         11\n",
       "taxvaluedollarcnt                   0\n",
       "assessmentyear                      0\n",
       "landtaxvaluedollarcnt               0\n",
       "taxamount                           1\n",
       "taxdelinquencyflag              29753\n",
       "taxdelinquencyyear              29753\n",
       "censustractandblock                20\n",
       "logerror                            0\n",
       "transactiondate                     0\n",
       "airconditioningdesc              9275\n",
       "architecturalstyledesc          31938\n",
       "buildingclassdesc               32142\n",
       "heatingorsystemdesc              4801\n",
       "propertylandusedesc                 0\n",
       "storydesc                       32096\n",
       "typeconstructiondesc            31923\n",
       "dtype: int64"
      ]
     },
     "execution_count": 12,
     "metadata": {},
     "output_type": "execute_result"
    }
   ],
   "source": [
    "# dropping columns with 35 or more non-nulls\n",
    "\n",
    "zil = zil.dropna(thresh = 35)\n",
    "zil.isna().sum()"
   ]
  },
  {
   "cell_type": "code",
   "execution_count": 16,
   "id": "99038d27",
   "metadata": {},
   "outputs": [
    {
     "data": {
      "text/plain": [
       "((18001, 67), (7715, 67), (6429, 67))"
      ]
     },
     "execution_count": 16,
     "metadata": {},
     "output_type": "execute_result"
    }
   ],
   "source": [
    "# splitting into tvt\n",
    "\n",
    "train, val, test = tts(zil)\n",
    "train.shape, val.shape, test.shape\n"
   ]
  },
  {
   "cell_type": "code",
   "execution_count": 19,
   "id": "3150c56e",
   "metadata": {},
   "outputs": [
    {
     "data": {
      "text/plain": [
       "<seaborn.axisgrid.FacetGrid at 0x1470c4640>"
      ]
     },
     "execution_count": 19,
     "metadata": {},
     "output_type": "execute_result"
    },
    {
     "data": {
      "image/png": "[encoded data removed]",
      "text/plain": [
       "<Figure size 500x500 with 1 Axes>"
      ]
     },
     "metadata": {},
     "output_type": "display_data"
    }
   ],
   "source": [
    "# plotting taxdelinquencyyear against logerror\n",
    "\n",
    "sns.relplot(data = train, x = 'taxdelinquencyyear', y = 'logerror')"
   ]
  },
  {
   "cell_type": "code",
   "execution_count": 30,
   "id": "3ddcf76c",
   "metadata": {},
   "outputs": [
    {
     "data": {
      "text/plain": [
       "<AxesSubplot:xlabel='numberofstories', ylabel='logerror'>"
      ]
     },
     "execution_count": 30,
     "metadata": {},
     "output_type": "execute_result"
    },
    {
     "data": {
      "image/png": "[encoded data removed]",
      "text/plain": [
       "<Figure size 640x480 with 1 Axes>"
      ]
     },
     "metadata": {},
     "output_type": "display_data"
    }
   ],
   "source": [
    "# plotting taxdelinquencyyear against logerror\n",
    "\n",
    "sns.barplot(data = train, x = 'numberofstories', y = 'logerror')"
   ]
  },
  {
   "cell_type": "code",
   "execution_count": 29,
   "id": "13963690",
   "metadata": {},
   "outputs": [
    {
     "data": {
      "text/plain": [
       "<AxesSubplot:xlabel='logerror', ylabel='architecturalstyletypeid'>"
      ]
     },
     "execution_count": 29,
     "metadata": {},
     "output_type": "execute_result"
    },
    {
     "data": {
      "image/png": "[encoded data removed]",
      "text/plain": [
       "<Figure size 640x480 with 1 Axes>"
      ]
     },
     "metadata": {},
     "output_type": "display_data"
    }
   ],
   "source": [
    "# plotting architecturalstyletypeid against logerror\n",
    "\n",
    "sns.barplot(data = train, y = 'architecturalstyletypeid', x = 'logerror')"
   ]
  },
  {
   "cell_type": "code",
   "execution_count": 23,
   "id": "41d31c1a",
   "metadata": {},
   "outputs": [
    {
     "data": {
      "text/plain": [
       "<AxesSubplot:xlabel='typeconstructiontypeid', ylabel='logerror'>"
      ]
     },
     "execution_count": 23,
     "metadata": {},
     "output_type": "execute_result"
    },
    {
     "data": {
      "image/png": "[encoded data removed]",
      "text/plain": [
       "<Figure size 640x480 with 1 Axes>"
      ]
     },
     "metadata": {},
     "output_type": "display_data"
    }
   ],
   "source": [
    "# plotting typeconstructiontypeid against logerror\n",
    "\n",
    "sns.barplot(data = train, x = 'typeconstructiontypeid', y = 'logerror')"
   ]
  },
  {
   "cell_type": "code",
   "execution_count": null,
   "id": "cc61defb",
   "metadata": {},
   "outputs": [],
   "source": []
  }
 ],
 "metadata": {
  "kernelspec": {
   "display_name": "Python 3 (ipykernel)",
   "language": "python",
   "name": "python3"
  },
  "language_info": {
   "codemirror_mode": {
    "name": "ipython",
    "version": 3
   },
   "file_extension": ".py",
   "mimetype": "text/x-python",
   "name": "python",
   "nbconvert_exporter": "python",
   "pygments_lexer": "ipython3",
   "version": "3.9.13"
  }
 },
 "nbformat": 4,
 "nbformat_minor": 5
}
